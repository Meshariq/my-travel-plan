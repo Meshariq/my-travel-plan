{
 "cells": [
  {
   "cell_type": "code",
   "execution_count": 1,
   "id": "4ad5d643",
   "metadata": {},
   "outputs": [],
   "source": [
    "#Based on what you’ve learned until now, create a project of your choosing (impress us with your imagination).\n",
    "#This project must at least satisfy the following minimum requirements:\n",
    "\n",
    "#Use at least 3 different data types.\n",
    "#Use lists or dictionaries or tuples or sets.\n",
    "#Use loops.\n",
    "#Use functions that return an output.\n",
    "#Use conditions.\n",
    "#Use a Lambda function"
   ]
  },
  {
   "cell_type": "code",
   "execution_count": null,
   "id": "e4a40092",
   "metadata": {},
   "outputs": [
    {
     "name": "stdout",
     "output_type": "stream",
     "text": [
      "Welcome to F.R.I.N.D.S game!!\n",
      "The game is : A caption will pop up and you have guess the character that said this particular caption \n",
      "Who said : It taste like feet\n",
      "('Monica', 'Ross', 'Rachel', 'Chandler', 'Phoebe', 'Joey')\n",
      "Enter Which Friend Said That : ross\n",
      "it's correct it was Ross!!\n",
      "Who said : I KNOW !!!\n",
      "('Monica', 'Ross', 'Rachel', 'Chandler', 'Phoebe', 'Joey')\n",
      "Enter Which Friend Said That : k\n",
      "Sorry you're wrong ..\n",
      "Who said : What did I marry into !\n",
      "('Monica', 'Ross', 'Rachel', 'Chandler', 'Phoebe', 'Joey')\n"
     ]
    }
   ],
   "source": [
    "def friends_game():\n",
    "    \n",
    "    character = ('Monica' , 'Ross' , 'Rachel' , 'Chandler' , 'Phoebe' , 'Joey')\n",
    "    \n",
    "    \n",
    "    print(\"Welcome to F.R.I.E.N.D.S game!!\")\n",
    "    print(\"The game is : A caption will pop up and you have guess the character that said this particular caption \")\n",
    "    \n",
    "    monica_cap = [\"I KNOW !!!\" , \"THAT'S NOT EVEN A WORD !!! \" , \"Chandler .. WHAT IS THE MATTER WITH YOUR FACE??!\", \"OK, just to be clear, comedy with the plates will not be well-recieved.\" ,\"Ross married Rachel in vegas and got divorced AGAIN!!\"]\n",
    "    rachel_cap = [\"AAHHH Salamon Skin Roll..\" , \"You fell ASLEEP !!!\" , \"I got off the plane ...\" , \"OH.. look who it is, My husband the apple of my eye\", \"He's a transponster\"]\n",
    "    joey_cap = [\"How you doin' \" , \"Could I be wearing anymore clothes? \" , \"It's a moo point !\" , \"I'm curvy and I like it !!\" , \"London Baaaabe !!!\", \"Why god why !! we had a deal let the others grow old not me\"]\n",
    "    chandler_cap = [\"What did I marry into !\" , \"Was that place THE SUN ??\" , \"OH MY GOD YoU ALmoSt GavE mE A hEarT AtTaCk\" , \"I'm sorry we don't have your sheep\", \"Wooh-Paah!!\"]\n",
    "    phoebe_cap = [\"Smelly cat Smelly cat .. What are they feeding you\" , \"Not even have a pla-\" , \"MY EYES MMYY EYEEYYSS !!!\" , \"E as an ello there mate\", \"Have I gone deaf???\"]\n",
    "    ross_cap = [\"I'm fine TOTALLY FINE\", \"It taste like feet\" , \"PIVOT PIVOT PIVOT PIVOT\" , \"Unagi..\" , \"You had rambled on for 18 pages FRONT AND BACK !!!\"]\n",
    "    \n",
    "    questions = [\"It taste like feet\",\"I KNOW !!!\",\"What did I marry into !\",\"Smelly cat Smelly cat .. What are they feeding you\",\n",
    "                \"THAT'S NOT EVEN A WORD !!! \", \"AAHHH Salamon Skin Roll..\",\"Was that place THE SUN ??\", \"It's a moo point !\",\n",
    "                \"Unagi..\", \"You fell ASLEEP !!!\", \"Not even have a pla-\", \"Chandler .. WHAT IS THE MATTER WITH YOUR FACE??!\" ,\n",
    "                \"Could I be wearing anymore clothes? \", \"I got off the plane ...\",\"I'm fine TOTALLY FINE\", \"MY EYES MMYY EYEEYYSS !!!\",\n",
    "                \"OK, just to be clear, comedy with the plates will not be well-recieved.\",\"PIVOT PIVOT PIVOT PIVOT\",\"I'm curvy and I like it !!\",\n",
    "                \"OH MY GOD YoU ALmoSt GavE mE A hEarT AtTaCk\",\"E as an ello there mate\", \"London Baaaabe !!!\",\n",
    "                \"OH.. look who it is, My husband the apple of my eye\",\"Have I gone deaf???\",\"You had rambled on for 18 pages FRONT AND BACK !!!\",\n",
    "                \"He's a transponster\",\"Why god why !! we had a deal let the others grow old not me\",\"Ross married Rachel in vegas and got divorced AGAIN!!\",\n",
    "                \"Wooh-Paah!!\",\"I'm sorry we don't have your sheep\"]\n",
    "    \n",
    "    points = 0\n",
    "    for q in questions[:]:\n",
    "        print(\"Who said : \" + q)\n",
    "        print(character)\n",
    "        answer = input('Enter Which Friend Said That : ')\n",
    "        \n",
    "        if q in monica_cap and answer.capitalize() == 'Monica':\n",
    "            print(\"it's correct it was Monica!!\")\n",
    "            points+=1\n",
    "            \n",
    "        elif q in ross_cap and answer.capitalize() == 'Ross':\n",
    "            print(\"it's correct it was Ross!!\")\n",
    "            points+=1\n",
    "            \n",
    "        elif q in chandler_cap and answer.capitalize() == 'Chandler':\n",
    "            print(\"it's correct it was Chandler!!\")\n",
    "            points+=1\n",
    "            \n",
    "        elif q in phoebe_cap and answer.capitalize() == 'Phoebe':\n",
    "            print(\"it's correct it was Phoebe!!\")\n",
    "            points+=1\n",
    "            \n",
    "        elif q in joey_cap and answer.capitalize() == 'Joey':\n",
    "            print(\"it's correct it was Joey!!\")\n",
    "            points+=1\n",
    "        \n",
    "        elif q in rachel_cap and answer.capitalize() == 'Rachel':\n",
    "            print(\"it's correct it was Rachel!!\")\n",
    "            points+=1\n",
    "        else:\n",
    "            print(\"Sorry you're wrong ..\")\n",
    "        \n",
    "    print(\"I hope you had fun you're points are {} , GOOD JOB!!\".format(points))\n",
    "    \n",
    "    \n",
    "friends_game()"
   ]
  },
  {
   "cell_type": "code",
   "execution_count": null,
   "id": "9126372e",
   "metadata": {},
   "outputs": [],
   "source": []
  }
 ],
 "metadata": {
  "kernelspec": {
   "display_name": "Python 3 (ipykernel)",
   "language": "python",
   "name": "python3"
  },
  "language_info": {
   "codemirror_mode": {
    "name": "ipython",
    "version": 3
   },
   "file_extension": ".py",
   "mimetype": "text/x-python",
   "name": "python",
   "nbconvert_exporter": "python",
   "pygments_lexer": "ipython3",
   "version": "3.9.12"
  }
 },
 "nbformat": 4,
 "nbformat_minor": 5
}
